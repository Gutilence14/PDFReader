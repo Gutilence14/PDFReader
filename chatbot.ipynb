{
 "cells": [
  {
   "cell_type": "code",
   "execution_count": null,
   "metadata": {},
   "outputs": [],
   "source": [
    "import os\n",
    "import threading\n",
    "import pytesseract\n",
    "from PIL import Image\n",
    "from multiprocessing import cpu_count\n",
    "\n",
    "# 设置tesseract路径，如果tesseract不在默认路径中\n",
    "# pytesseract.pytesseract.tesseract_cmd = r'C:\\Program Files\\Tesseract-OCR\\tesseract.exe'\n",
    "\n",
    "# 假设你的图片在同一个文件夹下\n",
    "image_files = [os.path.join('img', f) for f in os.listdir('img') if f.endswith('.jpg')]\n",
    "data = {}\n",
    "\n",
    "def ocr_thread(file_path, thread_id):\n",
    "    # 使用Pillow打开图像\n",
    "    img = Image.open(file_path)\n",
    "    # 使用pytesseract进行OCR\n",
    "    text = pytesseract.image_to_string(img, lang='chi_sim+eng')\n",
    "    # 将结果保存到data字典中，键为文件名，值为识别的文本\n",
    "    data[file_path] = text\n",
    "    print(f\"Thread {thread_id} finished processing {file_path}\")\n",
    "\n",
    "# 获取CPU核心数\n",
    "num_cores = cpu_count() // 2\n",
    "threads = []\n",
    "\n",
    "# 创建和启动线程\n",
    "for i, image_file in enumerate(image_files):\n",
    "    thread = threading.Thread(target=ocr_thread, args=(image_file, i))\n",
    "    threads.append(thread)\n",
    "    thread.start()\n",
    "\n",
    "# 等待所有线程完成\n",
    "for thread in threads:\n",
    "    thread.join()\n",
    "\n",
    "print(\"All threads have completed. Results:\")\n",
    "print(data)\n"
   ]
  }
 ],
 "metadata": {
  "language_info": {
   "name": "python"
  }
 },
 "nbformat": 4,
 "nbformat_minor": 2
}
